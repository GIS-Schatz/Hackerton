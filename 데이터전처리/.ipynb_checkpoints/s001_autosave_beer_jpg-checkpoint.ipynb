{
 "cells": [
  {
   "cell_type": "code",
   "execution_count": null,
   "id": "d4839de2",
   "metadata": {},
   "outputs": [],
   "source": [
    "# pip install selenium"
   ]
  },
  {
   "cell_type": "code",
   "execution_count": 12,
   "id": "ae190db0",
   "metadata": {},
   "outputs": [
    {
     "name": "stdout",
     "output_type": "stream",
     "text": [
      "Note: you may need to restart the kernel to use updated packages.\n"
     ]
    },
    {
     "name": "stderr",
     "output_type": "stream",
     "text": [
      "파일 이름, 디렉터리 이름 또는 볼륨 레이블 구문이 잘못되었습니다.\n"
     ]
    }
   ],
   "source": [
    "# pip install openpyxl"
   ]
  },
  {
   "cell_type": "code",
   "execution_count": null,
   "id": "890b4d8a",
   "metadata": {},
   "outputs": [],
   "source": [
    "# pip install xlsxwriter\n",
    "#     result.to_excel(\"beer_n_\"+str(k)+\".xlsx\", engine='xlsxwriter')\n",
    "# engine='xlsxwriter' 추가"
   ]
  },
  {
   "cell_type": "code",
   "execution_count": 16,
   "id": "d9a211ee",
   "metadata": {},
   "outputs": [],
   "source": [
    "# 사진을 저장하기 위해서 몇가지가 추가 되었다\n",
    "import pandas as pd\n",
    "import numpy as np\n",
    "import time\n",
    "\n",
    "import re\n",
    "\n",
    "\n",
    "import selenium\n",
    "from selenium import webdriver\n",
    "from selenium.webdriver.chrome.options import Options\n",
    "from selenium.webdriver.support.ui import WebDriverWait           #추가\n",
    "from selenium.common.exceptions import NoSuchElementException     #추가  \n",
    "import urllib                                                     #추가\n",
    "import urllib.request                                             #추가"
   ]
  },
  {
   "cell_type": "markdown",
   "id": "11709f4c",
   "metadata": {},
   "source": [
    "# beer_list를 만들기위한 작업"
   ]
  },
  {
   "cell_type": "code",
   "execution_count": 77,
   "id": "0868bf14",
   "metadata": {},
   "outputs": [],
   "source": [
    "# 사용할 데이터 : 맥주이름.csv\n",
    "beer_list = pd.read_csv('맥주이름.csv', encoding='utf-8')"
   ]
  },
  {
   "cell_type": "code",
   "execution_count": 78,
   "id": "a5b1d6fa",
   "metadata": {},
   "outputs": [
    {
     "data": {
      "text/html": [
       "<div>\n",
       "<style scoped>\n",
       "    .dataframe tbody tr th:only-of-type {\n",
       "        vertical-align: middle;\n",
       "    }\n",
       "\n",
       "    .dataframe tbody tr th {\n",
       "        vertical-align: top;\n",
       "    }\n",
       "\n",
       "    .dataframe thead th {\n",
       "        text-align: right;\n",
       "    }\n",
       "</style>\n",
       "<table border=\"1\" class=\"dataframe\">\n",
       "  <thead>\n",
       "    <tr style=\"text-align: right;\">\n",
       "      <th></th>\n",
       "      <th>Unnamed: 0</th>\n",
       "      <th>맥주이름</th>\n",
       "    </tr>\n",
       "  </thead>\n",
       "  <tbody>\n",
       "    <tr>\n",
       "      <th>0</th>\n",
       "      <td>0</td>\n",
       "      <td>Kloud Original Gravity</td>\n",
       "    </tr>\n",
       "    <tr>\n",
       "      <th>1</th>\n",
       "      <td>1</td>\n",
       "      <td>Kloud Fitz Super Clear</td>\n",
       "    </tr>\n",
       "    <tr>\n",
       "      <th>2</th>\n",
       "      <td>2</td>\n",
       "      <td>Asahi Super Dry</td>\n",
       "    </tr>\n",
       "    <tr>\n",
       "      <th>3</th>\n",
       "      <td>3</td>\n",
       "      <td>Tsingtao</td>\n",
       "    </tr>\n",
       "    <tr>\n",
       "      <th>4</th>\n",
       "      <td>4</td>\n",
       "      <td>Heineken</td>\n",
       "    </tr>\n",
       "    <tr>\n",
       "      <th>...</th>\n",
       "      <td>...</td>\n",
       "      <td>...</td>\n",
       "    </tr>\n",
       "    <tr>\n",
       "      <th>70</th>\n",
       "      <td>70</td>\n",
       "      <td>Red Rock</td>\n",
       "    </tr>\n",
       "    <tr>\n",
       "      <th>71</th>\n",
       "      <td>71</td>\n",
       "      <td>Erdinger Weissbier Dunkel</td>\n",
       "    </tr>\n",
       "    <tr>\n",
       "      <th>72</th>\n",
       "      <td>72</td>\n",
       "      <td>Warsteiner Premium Verum</td>\n",
       "    </tr>\n",
       "    <tr>\n",
       "      <th>73</th>\n",
       "      <td>73</td>\n",
       "      <td>Queen's Ale Blonde Type</td>\n",
       "    </tr>\n",
       "    <tr>\n",
       "      <th>74</th>\n",
       "      <td>74</td>\n",
       "      <td>Hoegaarden</td>\n",
       "    </tr>\n",
       "  </tbody>\n",
       "</table>\n",
       "<p>75 rows × 2 columns</p>\n",
       "</div>"
      ],
      "text/plain": [
       "    Unnamed: 0                       맥주이름\n",
       "0            0     Kloud Original Gravity\n",
       "1            1     Kloud Fitz Super Clear\n",
       "2            2            Asahi Super Dry\n",
       "3            3                   Tsingtao\n",
       "4            4                   Heineken\n",
       "..         ...                        ...\n",
       "70          70                   Red Rock\n",
       "71          71  Erdinger Weissbier Dunkel\n",
       "72          72   Warsteiner Premium Verum\n",
       "73          73    Queen's Ale Blonde Type\n",
       "74          74                 Hoegaarden\n",
       "\n",
       "[75 rows x 2 columns]"
      ]
     },
     "execution_count": 78,
     "metadata": {},
     "output_type": "execute_result"
    }
   ],
   "source": [
    "# list확인\n",
    "beer_list"
   ]
  },
  {
   "cell_type": "code",
   "execution_count": 79,
   "id": "3fdfc025",
   "metadata": {},
   "outputs": [
    {
     "data": {
      "text/plain": [
       "Index(['Unnamed: 0', '맥주이름'], dtype='object')"
      ]
     },
     "execution_count": 79,
     "metadata": {},
     "output_type": "execute_result"
    }
   ],
   "source": [
    "# 컬럼 확인\n",
    "beer_list.columns\n",
    "#'Unnamed: 0'이라는 필요 없는 컬럼이 있다"
   ]
  },
  {
   "cell_type": "code",
   "execution_count": 80,
   "id": "199010d1",
   "metadata": {},
   "outputs": [],
   "source": [
    "# column정리\n",
    "# ['Unnamed: 0', '맥주이름'] 두개 컬럼이 있는데 '맥주이름'컬럼만 사용 할 것이다.\n",
    "beer_list = beer_list[['맥주이름']]"
   ]
  },
  {
   "cell_type": "code",
   "execution_count": 81,
   "id": "f8eebea2",
   "metadata": {},
   "outputs": [
    {
     "name": "stderr",
     "output_type": "stream",
     "text": [
      "C:\\Users\\adele\\anaconda3\\lib\\site-packages\\pandas\\core\\frame.py:4901: SettingWithCopyWarning: \n",
      "A value is trying to be set on a copy of a slice from a DataFrame\n",
      "\n",
      "See the caveats in the documentation: https://pandas.pydata.org/pandas-docs/stable/user_guide/indexing.html#returning-a-view-versus-a-copy\n",
      "  return super().drop(\n"
     ]
    }
   ],
   "source": [
    "# Hoegaarden은 xpath위치가 다르기 때문에 제외해준다\n",
    "# 마지막에 호가든은 추기 되기 때문에 사이트에 접속해서 jpg파일을 직접 저장하겠다. \n",
    "\n",
    "# 그 외 특이사항으로 이름이 검색되지 않아 확인해본 결과 다른 이름으로 검색하면 검색이 가능하다\n",
    "# beer_n_47.xlsx(beer_n_47.csv)'Bali Hai Premium Larger' = 'Bali Hai' 로 수정\n",
    "\n",
    "beer_list.drop([74], axis=0, inplace=True)"
   ]
  },
  {
   "cell_type": "code",
   "execution_count": 82,
   "id": "4ca7a83f",
   "metadata": {},
   "outputs": [],
   "source": [
    "# 수집할 맥주 목록을 list로 변환\n",
    "beer_list = beer_list['맥주이름'].tolist()"
   ]
  },
  {
   "cell_type": "code",
   "execution_count": 83,
   "id": "e11b87bd",
   "metadata": {},
   "outputs": [
    {
     "data": {
      "text/plain": [
       "['Kloud Original Gravity',\n",
       " 'Kloud Fitz Super Clear',\n",
       " 'Asahi Super Dry',\n",
       " 'Tsingtao',\n",
       " 'Heineken',\n",
       " 'Kirin Ichiban',\n",
       " 'Sapporo Premium Beer / Draft Beer',\n",
       " 'Stella Artois',\n",
       " 'Guinness Draught',\n",
       " 'Kronenbourg 1664 Blanc',\n",
       " 'Pilsner Urquell',\n",
       " 'San Miguel',\n",
       " 'OB Premier Pilsner',\n",
       " 'Cass Fresh',\n",
       " 'Hite D (Dry Finish)',\n",
       " 'Hite Prime Max',\n",
       " 'Hite Extra Cold',\n",
       " 'Victoria Bitter',\n",
       " 'Bintang Pilsener',\n",
       " 'Krombacher Weizen',\n",
       " 'Miller Genuine Draft (MGD)',\n",
       " 'Hoegaarden Cherry',\n",
       " 'Tiger Radler Lemon',\n",
       " \"Suntory The Premium Malt's\",\n",
       " 'Reeper B. Blondes Weissbier',\n",
       " 'Bright Leaf Peeper Red IPA',\n",
       " 'Tiger Beer',\n",
       " 'Tsingtao Wheat Beer',\n",
       " 'Erdinger Weissbier',\n",
       " 'Carlsberg Pilsner',\n",
       " 'Budweiser',\n",
       " 'Sapporo Yebisu',\n",
       " 'Paulaner Hefe-Weissbier',\n",
       " 'Desperados',\n",
       " 'Peroni Nastro Azzurro',\n",
       " 'Edelweiss Weissbier Snowfresh',\n",
       " 'Heineken Dark Lager',\n",
       " 'Kozel Černý (Dark) 10°',\n",
       " 'Guinness Original 4.2% (Ireland/UK)',\n",
       " 'FiLite',\n",
       " 'ARK Seoulite Ale',\n",
       " 'Jeju Wit Ale',\n",
       " 'Stephans Bräu Premium Pilsener',\n",
       " 'Stephans Bräu Premium Lager',\n",
       " 'Stephans Bräu Hefe-Weizen Naturtrüb',\n",
       " 'Bali Hai',\n",
       " 'Eichbaum Apostel Bräu',\n",
       " 'Egger Zwickl',\n",
       " 'Egger Märzenbier',\n",
       " 'Holsten Premium Bier',\n",
       " 'Franziskaner Hefe-Weissbier / Weissbier Naturtrub',\n",
       " 'Egger Grapefruit Radler',\n",
       " 'Bavaria Pilsener / Premium Beer',\n",
       " 'Bavaria 8.6 (Original)',\n",
       " 'Lapin Kulta IV A',\n",
       " 'Grolsch Premium Lager',\n",
       " 'Gambrinus Originál 10° (Desítka)',\n",
       " 'Castlemaine XXXX Gold Lager',\n",
       " 'Leffe Brune / Bruin / Brown',\n",
       " 'Löwenbräu Original (4.2%)',\n",
       " 'Asahi Super Dry Black',\n",
       " 'Harbin Beer',\n",
       " \"Beck's\",\n",
       " 'Hoegaarden Rosée',\n",
       " 'Platinum White Ale',\n",
       " 'Platinum Pale Ale',\n",
       " 'Brooklyn Special Effects (Hoppy Amber/Lager)',\n",
       " 'Schöfferhofer Grapefruit',\n",
       " 'Volfas Engelman Grünberger Hefeweizen',\n",
       " 'Berliner Kindl Jubiläums Pilsener Premium',\n",
       " 'Red Rock',\n",
       " 'Erdinger Weissbier Dunkel',\n",
       " 'Warsteiner Premium Verum',\n",
       " \"Queen's Ale Blonde Type\"]"
      ]
     },
     "execution_count": 83,
     "metadata": {},
     "output_type": "execute_result"
    }
   ],
   "source": [
    "# list로 변환된 맥주 이름\n",
    "beer_list"
   ]
  },
  {
   "cell_type": "code",
   "execution_count": 99,
   "id": "444ba373",
   "metadata": {
    "scrolled": true
   },
   "outputs": [
    {
     "data": {
      "text/plain": [
       "74"
      ]
     },
     "execution_count": 99,
     "metadata": {},
     "output_type": "execute_result"
    }
   ],
   "source": [
    "len(beer_list)"
   ]
  },
  {
   "cell_type": "code",
   "execution_count": null,
   "id": "7ab1450a",
   "metadata": {},
   "outputs": [],
   "source": [
    "# 이미지 xpath : //*[@id=\"root\"]/div[2]/div[2]/div/div/div/div[2]/div[1]/div/div[2]/div[1]/img\n",
    "\n",
    "# selenium, xpath를 이용한 이미지저장 코드\n",
    "# img_num = 1\n",
    "#   while True:\n",
    "#       try:\n",
    "#           img = driver.find_element_by_xpath('//*[@id=\"root\"]/div[3]/div/div/div/div[1]/div[' + str(img_num) + ']/img')\n",
    "#           src = img.get_attribute('src')\n",
    "#           urllib.request.urlretrieve(src,'이미지 이름_%03d.png'%(img_num))\n",
    "#       except NoSuchElementException:  #마지막 이미지 저장 후 반복문을 빠져나감.\n",
    "#           break\n",
    "#       img_num = img_num+1"
   ]
  },
  {
   "cell_type": "code",
   "execution_count": 85,
   "id": "1c4274d6",
   "metadata": {},
   "outputs": [],
   "source": [
    "# 데이터프레임으로 저장\n",
    "beer_list = pd.DataFrame(data=beer_list, columns=['검색이름'])"
   ]
  },
  {
   "cell_type": "code",
   "execution_count": 86,
   "id": "e37e152f",
   "metadata": {},
   "outputs": [
    {
     "data": {
      "text/html": [
       "<div>\n",
       "<style scoped>\n",
       "    .dataframe tbody tr th:only-of-type {\n",
       "        vertical-align: middle;\n",
       "    }\n",
       "\n",
       "    .dataframe tbody tr th {\n",
       "        vertical-align: top;\n",
       "    }\n",
       "\n",
       "    .dataframe thead th {\n",
       "        text-align: right;\n",
       "    }\n",
       "</style>\n",
       "<table border=\"1\" class=\"dataframe\">\n",
       "  <thead>\n",
       "    <tr style=\"text-align: right;\">\n",
       "      <th></th>\n",
       "      <th>검색이름</th>\n",
       "    </tr>\n",
       "  </thead>\n",
       "  <tbody>\n",
       "    <tr>\n",
       "      <th>0</th>\n",
       "      <td>Kloud Original Gravity</td>\n",
       "    </tr>\n",
       "    <tr>\n",
       "      <th>1</th>\n",
       "      <td>Kloud Fitz Super Clear</td>\n",
       "    </tr>\n",
       "    <tr>\n",
       "      <th>2</th>\n",
       "      <td>Asahi Super Dry</td>\n",
       "    </tr>\n",
       "    <tr>\n",
       "      <th>3</th>\n",
       "      <td>Tsingtao</td>\n",
       "    </tr>\n",
       "    <tr>\n",
       "      <th>4</th>\n",
       "      <td>Heineken</td>\n",
       "    </tr>\n",
       "    <tr>\n",
       "      <th>...</th>\n",
       "      <td>...</td>\n",
       "    </tr>\n",
       "    <tr>\n",
       "      <th>69</th>\n",
       "      <td>Berliner Kindl Jubiläums Pilsener Premium</td>\n",
       "    </tr>\n",
       "    <tr>\n",
       "      <th>70</th>\n",
       "      <td>Red Rock</td>\n",
       "    </tr>\n",
       "    <tr>\n",
       "      <th>71</th>\n",
       "      <td>Erdinger Weissbier Dunkel</td>\n",
       "    </tr>\n",
       "    <tr>\n",
       "      <th>72</th>\n",
       "      <td>Warsteiner Premium Verum</td>\n",
       "    </tr>\n",
       "    <tr>\n",
       "      <th>73</th>\n",
       "      <td>Queen's Ale Blonde Type</td>\n",
       "    </tr>\n",
       "  </tbody>\n",
       "</table>\n",
       "<p>74 rows × 1 columns</p>\n",
       "</div>"
      ],
      "text/plain": [
       "                                         검색이름\n",
       "0                      Kloud Original Gravity\n",
       "1                      Kloud Fitz Super Clear\n",
       "2                             Asahi Super Dry\n",
       "3                                    Tsingtao\n",
       "4                                    Heineken\n",
       "..                                        ...\n",
       "69  Berliner Kindl Jubiläums Pilsener Premium\n",
       "70                                   Red Rock\n",
       "71                  Erdinger Weissbier Dunkel\n",
       "72                   Warsteiner Premium Verum\n",
       "73                    Queen's Ale Blonde Type\n",
       "\n",
       "[74 rows x 1 columns]"
      ]
     },
     "execution_count": 86,
     "metadata": {},
     "output_type": "execute_result"
    }
   ],
   "source": [
    "# 데이터프레임 확인\n",
    "beer_list"
   ]
  },
  {
   "cell_type": "code",
   "execution_count": 100,
   "id": "500e8811",
   "metadata": {},
   "outputs": [],
   "source": [
    "# 데이터 프레임 생성\n",
    "data = pd.DataFrame(data=[], columns=['맥주정보', '검색이름', '맥주이름'])\n",
    "\n",
    "# chromedriver.exe 파일 경로 설정\n",
    "chromedriver = 'C:/Users/adele/sel/chromedriver.exe'\n",
    "# 크롤링 할 경로 설정\n",
    "url = 'https://www.ratebeer.com/search?tab=beer'\n",
    "\n",
    "# 셀레니움으로 웹브라우저를 오픈합니다.\n",
    "driver = webdriver.Chrome(chromedriver)\n",
    "driver.get(url)\n",
    "driver.set_window_size(900, 900)\n",
    "time.sleep(1)"
   ]
  },
  {
   "cell_type": "code",
   "execution_count": 96,
   "id": "8798ffda",
   "metadata": {},
   "outputs": [],
   "source": [
    "def crawl(driver, beer, data, k):\n",
    "    # 데이터 프레임 생성\n",
    "    data = pd.DataFrame(data=[], columns=['맥주정보', '검색이름', '맥주이름'])\n",
    "\n",
    "    # url open\n",
    "    print('url_open... {0} 맥주 사진을 수집합니다..'.format(beer))\n",
    "    driver = webdriver.Chrome(chromedriver)\n",
    "    driver.get(url)\n",
    "    driver.set_window_size(900, 900)\n",
    "\n",
    "    # 1번 사진에 해당 : 맥주 검색\n",
    "    time.sleep(2)\n",
    "    element = driver.find_element_by_xpath('//*[@id=\"root\"]/div[2]/header/div[2]/div[1]/div[2]/div/div/input')\n",
    "    time.sleep(2)\n",
    "    element.click()\n",
    "    time.sleep(2)\n",
    "    element.send_keys(beer)\n",
    "    time.sleep(3)\n",
    "    \n",
    "    # 2번 사진에 해당 : 상품 선택\n",
    "    driver.find_element_by_xpath('//*[@id=\"root\"]/div[2]/header/div[2]/div[1]/div[2]/div/div[2]/a[1]/div/div[2]').click()\n",
    "    # 호가든 xpath : //*[@id=\"root\"]/div[2]/header/div[2]/div[1]/div[2]/div/div[2]/a[2]/div \n",
    "\n",
    "    # 3번 사진에 해당 : 상품 이름 수집\n",
    "    time.sleep(3)\n",
    "    beer_name = driver.find_element_by_css_selector('.MuiTypography-root.Text___StyledTypographyTypeless-bukSfn.pzIrn.text-500.colorized__WrappedComponent-hrwcZr.hwjOn.mt-3.MuiTypography-h4').text\n",
    "\n",
    "    error_cnt = 0\n",
    "    \n",
    "    # 이미지 xpath : //*[@id=\"root\"]/div[2]/div[2]/div/div/div/div[2]/div[1]/div/div[2]/div[1]/img\n",
    "    img_num = 1\n",
    "    while 1:\n",
    "        try:\n",
    "          img = driver.find_element_by_xpath('//*[@id=\"root\"]/div[2]/div[2]/div/div/div/div[2]/div[1]/div/div[2]/div[' + str(img_num) + ']/img')\n",
    "          src = img.get_attribute('src')\n",
    "          fi = urllib.request.urlretrieve(src, 'beer_'+str(k)+'.jpg')#(beer_+'str(k)'+'.jpg')\n",
    "          img_num=img_num+1\n",
    "        except NoSuchElementException:  #마지막 이미지 저장 후 반복문을 빠져나감.\n",
    "          break\n",
    "        img_num = img_num+1\n",
    "\n",
    "    driver.quit()\n",
    "\n",
    "    return "
   ]
  },
  {
   "cell_type": "code",
   "execution_count": 97,
   "id": "33a509f0",
   "metadata": {
    "scrolled": false
   },
   "outputs": [
    {
     "name": "stdout",
     "output_type": "stream",
     "text": [
      "url_open... Kloud Original Gravity 맥주 데이터를 수집합니다..\n",
      "url_open... Kloud Fitz Super Clear 맥주 데이터를 수집합니다..\n",
      "url_open... Asahi Super Dry 맥주 데이터를 수집합니다..\n",
      "url_open... Tsingtao 맥주 데이터를 수집합니다..\n",
      "url_open... Heineken 맥주 데이터를 수집합니다..\n",
      "url_open... Kirin Ichiban 맥주 데이터를 수집합니다..\n",
      "url_open... Sapporo Premium Beer / Draft Beer 맥주 데이터를 수집합니다..\n",
      "url_open... Stella Artois 맥주 데이터를 수집합니다..\n",
      "url_open... Guinness Draught 맥주 데이터를 수집합니다..\n",
      "url_open... Kronenbourg 1664 Blanc 맥주 데이터를 수집합니다..\n",
      "url_open... Pilsner Urquell 맥주 데이터를 수집합니다..\n",
      "url_open... San Miguel 맥주 데이터를 수집합니다..\n",
      "url_open... OB Premier Pilsner 맥주 데이터를 수집합니다..\n",
      "url_open... Cass Fresh 맥주 데이터를 수집합니다..\n",
      "url_open... Hite D (Dry Finish) 맥주 데이터를 수집합니다..\n",
      "url_open... Hite Prime Max 맥주 데이터를 수집합니다..\n",
      "url_open... Hite Extra Cold 맥주 데이터를 수집합니다..\n",
      "url_open... Victoria Bitter 맥주 데이터를 수집합니다..\n",
      "url_open... Bintang Pilsener 맥주 데이터를 수집합니다..\n",
      "url_open... Krombacher Weizen 맥주 데이터를 수집합니다..\n",
      "url_open... Miller Genuine Draft (MGD) 맥주 데이터를 수집합니다..\n",
      "url_open... Hoegaarden Cherry 맥주 데이터를 수집합니다..\n",
      "url_open... Tiger Radler Lemon 맥주 데이터를 수집합니다..\n",
      "url_open... Suntory The Premium Malt's 맥주 데이터를 수집합니다..\n",
      "url_open... Reeper B. Blondes Weissbier 맥주 데이터를 수집합니다..\n",
      "url_open... Bright Leaf Peeper Red IPA 맥주 데이터를 수집합니다..\n",
      "url_open... Tiger Beer 맥주 데이터를 수집합니다..\n",
      "url_open... Tsingtao Wheat Beer 맥주 데이터를 수집합니다..\n",
      "url_open... Erdinger Weissbier 맥주 데이터를 수집합니다..\n",
      "url_open... Carlsberg Pilsner 맥주 데이터를 수집합니다..\n",
      "url_open... Budweiser 맥주 데이터를 수집합니다..\n",
      "url_open... Sapporo Yebisu 맥주 데이터를 수집합니다..\n",
      "url_open... Paulaner Hefe-Weissbier 맥주 데이터를 수집합니다..\n",
      "url_open... Desperados 맥주 데이터를 수집합니다..\n",
      "url_open... Peroni Nastro Azzurro 맥주 데이터를 수집합니다..\n",
      "url_open... Edelweiss Weissbier Snowfresh 맥주 데이터를 수집합니다..\n",
      "url_open... Heineken Dark Lager 맥주 데이터를 수집합니다..\n",
      "url_open... Kozel Černý (Dark) 10° 맥주 데이터를 수집합니다..\n",
      "url_open... Guinness Original 4.2% (Ireland/UK) 맥주 데이터를 수집합니다..\n",
      "url_open... FiLite 맥주 데이터를 수집합니다..\n",
      "url_open... ARK Seoulite Ale 맥주 데이터를 수집합니다..\n",
      "url_open... Jeju Wit Ale 맥주 데이터를 수집합니다..\n",
      "url_open... Stephans Bräu Premium Pilsener 맥주 데이터를 수집합니다..\n",
      "url_open... Stephans Bräu Premium Lager 맥주 데이터를 수집합니다..\n",
      "url_open... Stephans Bräu Hefe-Weizen Naturtrüb 맥주 데이터를 수집합니다..\n",
      "url_open... Bali Hai 맥주 데이터를 수집합니다..\n",
      "url_open... Eichbaum Apostel Bräu 맥주 데이터를 수집합니다..\n",
      "url_open... Egger Zwickl 맥주 데이터를 수집합니다..\n",
      "url_open... Egger Märzenbier 맥주 데이터를 수집합니다..\n",
      "url_open... Holsten Premium Bier 맥주 데이터를 수집합니다..\n",
      "url_open... Franziskaner Hefe-Weissbier / Weissbier Naturtrub 맥주 데이터를 수집합니다..\n",
      "url_open... Egger Grapefruit Radler 맥주 데이터를 수집합니다..\n",
      "url_open... Bavaria Pilsener / Premium Beer 맥주 데이터를 수집합니다..\n",
      "url_open... Bavaria 8.6 (Original) 맥주 데이터를 수집합니다..\n",
      "url_open... Lapin Kulta IV A 맥주 데이터를 수집합니다..\n",
      "url_open... Grolsch Premium Lager 맥주 데이터를 수집합니다..\n",
      "url_open... Gambrinus Originál 10° (Desítka) 맥주 데이터를 수집합니다..\n",
      "url_open... Castlemaine XXXX Gold Lager 맥주 데이터를 수집합니다..\n",
      "url_open... Leffe Brune / Bruin / Brown 맥주 데이터를 수집합니다..\n",
      "url_open... Löwenbräu Original (4.2%) 맥주 데이터를 수집합니다..\n",
      "url_open... Asahi Super Dry Black 맥주 데이터를 수집합니다..\n",
      "url_open... Harbin Beer 맥주 데이터를 수집합니다..\n",
      "url_open... Beck's 맥주 데이터를 수집합니다..\n",
      "url_open... Hoegaarden Rosée 맥주 데이터를 수집합니다..\n",
      "url_open... Platinum White Ale 맥주 데이터를 수집합니다..\n",
      "url_open... Platinum Pale Ale 맥주 데이터를 수집합니다..\n",
      "url_open... Brooklyn Special Effects (Hoppy Amber/Lager) 맥주 데이터를 수집합니다..\n",
      "url_open... Schöfferhofer Grapefruit 맥주 데이터를 수집합니다..\n",
      "url_open... Volfas Engelman Grünberger Hefeweizen 맥주 데이터를 수집합니다..\n",
      "url_open... Berliner Kindl Jubiläums Pilsener Premium 맥주 데이터를 수집합니다..\n",
      "url_open... Red Rock 맥주 데이터를 수집합니다..\n",
      "url_open... Erdinger Weissbier Dunkel 맥주 데이터를 수집합니다..\n",
      "url_open... Warsteiner Premium Verum 맥주 데이터를 수집합니다..\n",
      "url_open... Queen's Ale Blonde Type 맥주 데이터를 수집합니다..\n"
     ]
    }
   ],
   "source": [
    "# 사진저장 자동화 함수 실행 코드\n",
    "for k in range(len(beer_list)):\n",
    "    result = crawl(driver, beer_list['검색이름'].iloc[k], data, k)"
   ]
  }
 ],
 "metadata": {
  "kernelspec": {
   "display_name": "Python 3 (ipykernel)",
   "language": "python",
   "name": "python3"
  },
  "language_info": {
   "codemirror_mode": {
    "name": "ipython",
    "version": 3
   },
   "file_extension": ".py",
   "mimetype": "text/x-python",
   "name": "python",
   "nbconvert_exporter": "python",
   "pygments_lexer": "ipython3",
   "version": "3.8.11"
  }
 },
 "nbformat": 4,
 "nbformat_minor": 5
}
